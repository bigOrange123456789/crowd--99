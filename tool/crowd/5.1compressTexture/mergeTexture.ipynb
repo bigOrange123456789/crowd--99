{
 "cells": [
  {
   "cell_type": "code",
   "execution_count": 2,
   "metadata": {},
   "outputs": [],
   "source": [
    "from os import listdir\n",
    "from PIL import Image"
   ]
  },
  {
   "cell_type": "code",
   "execution_count": 4,
   "metadata": {},
   "outputs": [],
   "source": [
    "def merge(imgList, compressRatio, row, col):\n",
    "\n",
    "    (width, height) = imgList[0].size\n",
    "    assert(len(imgList) == row * col)\n",
    "    widthRatio = (0.5 / 0.95)\n",
    "    newWidth = int(width / compressRatio * widthRatio)\n",
    "    newHeight = int(height / compressRatio)\n",
    "\n",
    "    result = Image.new(\n",
    "        mode = imgList[0].mode, \n",
    "        size = (col * newWidth, row * newHeight)\n",
    "    )\n",
    "\n",
    "    # 压缩+裁切\n",
    "    for i, img in enumerate(imgList):\n",
    "        imgNew = img.resize(\n",
    "            size = (newWidth, newHeight),\n",
    "            box = (0, 0, int(width * widthRatio), height)\n",
    "        )\n",
    "        r = i // col\n",
    "        c = i % col\n",
    "        result.paste(imgNew, box = (c * newWidth, r * newHeight))\n",
    "    return result"
   ]
  },
  {
   "cell_type": "code",
   "execution_count": 5,
   "metadata": {},
   "outputs": [
    {
     "name": "stdout",
     "output_type": "stream",
     "text": [
      "45\n"
     ]
    }
   ],
   "source": [
    "# load image\n",
    "imgList = [Image.open(fn) for fn in listdir() if fn.endswith('.png')]\n",
    "print(len(imgList)) \n",
    "\n",
    "# 40张图片\n",
    "row = 5\n",
    "col = 9\n",
    "\n",
    "result = merge(imgList, 1, row, col)\n",
    "result.save(\"maleTextureHigh.jpg\")\n",
    "result = merge(imgList, 16, row, col)\n",
    "result.save(\"maleTextureMedium.jpg\")\n",
    "result = merge(imgList, 64, row, col)\n",
    "result.save(\"maleTextureLow.jpg\")"
   ]
  },
  {
   "cell_type": "code",
   "execution_count": null,
   "metadata": {},
   "outputs": [],
   "source": []
  }
 ],
 "metadata": {
  "kernelspec": {
   "display_name": "Python 3.8.5 ('base')",
   "language": "python",
   "name": "python3"
  },
  "language_info": {
   "codemirror_mode": {
    "name": "ipython",
    "version": 3
   },
   "file_extension": ".py",
   "mimetype": "text/x-python",
   "name": "python",
   "nbconvert_exporter": "python",
   "pygments_lexer": "ipython3",
   "version": "3.8.5"
  },
  "orig_nbformat": 4,
  "vscode": {
   "interpreter": {
    "hash": "690fcc030dbde6f3f652c519b06a0d95da528e66105ed58c88e506e5818277cb"
   }
  }
 },
 "nbformat": 4,
 "nbformat_minor": 2
}
